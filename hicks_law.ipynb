{
  "cells": [
    {
      "cell_type": "markdown",
      "metadata": {
        "id": "ahXmSI0M9NiE"
      },
      "source": [
        "# 🔍 Visual Search Experiment Analysis\n",
        "\n",
        "This notebook will guide you through analyzing your experimental data from the Hick's Law experiment. We'll visualize the relationship between the number of choices and reaction time, and find the coefficient $b$ in the formula:\n",
        "\n",
        "$$T = b \\log_2(n+1)$$\n",
        "\n",
        "where:\n",
        "- $T$ is the time taken to make a choice\n",
        "- $n$ is the number of choices\n",
        "- $b$ is the coefficient we want to find\n",
        "\n",
        "## 📊 Setup and Data Import"
      ]
    },
    {
      "cell_type": "code",
      "execution_count": null,
      "metadata": {
        "id": "5bA9XsBa9NiG"
      },
      "outputs": [],
      "source": [
        "import pandas as pd\n",
        "import numpy as np\n",
        "import matplotlib.pyplot as plt\n",
        "from scipy.optimize import curve_fit\n",
        "\n",
        "# Set style for better visualization\n",
        "plt.style.use('seaborn')"
      ]
    },
    {
      "cell_type": "markdown",
      "metadata": {
        "id": "KqUOD1Go9NiH"
      },
      "source": [
        "## 📥 Load Your Data\n",
        "\n",
        "After completing the experiment at https://s-abdullaev.github.io/hick/index.html, you should have downloaded a CSV file with your results. Let's load this data.\n",
        "\n",
        "1. Place your CSV file in the same directory as this notebook\n",
        "2. Update the filename in the code below to match your CSV file's name"
      ]
    },
    {
      "cell_type": "code",
      "execution_count": null,
      "metadata": {
        "id": "fSW8Tozo9NiH"
      },
      "outputs": [],
      "source": [
        "# Load the data\n",
        "# Replace 'your_results.csv' with your actual filename\n",
        "df = pd.read_csv('your_results.csv')\n",
        "\n",
        "# Display the first few rows\n",
        "print(\"First few rows of your data:\")\n",
        "df.head()"
      ]
    },
    {
      "cell_type": "markdown",
      "metadata": {
        "id": "mHOujq0v9NiH"
      },
      "source": [
        "## 📈 Visualize Raw Data\n",
        "\n",
        "Let's first create a scatter plot of our raw data to see the relationship between the number of choices and reaction time."
      ]
    },
    {
      "cell_type": "code",
      "execution_count": null,
      "metadata": {
        "id": "crLMxJQ79NiI"
      },
      "outputs": [],
      "source": [
        "plt.figure(figsize=(10, 6))\n",
        "plt.scatter(df['n_buttons'], df['time'], alpha=0.6, label='Experimental Data')\n",
        "plt.xlabel('Number of Choices (n)')\n",
        "plt.ylabel('Response Time (seconds)')\n",
        "plt.title(\"Visual Search: Response Time vs Number of Choices\")\n",
        "plt.grid(True)\n",
        "plt.legend()\n",
        "plt.show()"
      ]
    },
    {
      "cell_type": "markdown",
      "metadata": {
        "id": "FO69DIou9NiI"
      },
      "source": [
        "## 🧮 Fit the Model\n",
        "\n",
        "Now, let's fit our data to the Hick's Law model: $T = b \\log_2(n+1)$\n",
        "\n",
        "We'll use scipy's curve_fit to find the optimal value of $b$."
      ]
    },
    {
      "cell_type": "code",
      "execution_count": null,
      "metadata": {
        "id": "TNjekcBu9NiI"
      },
      "outputs": [],
      "source": [
        "def hicks_law(n, b):\n",
        "    return b * np.log2(n + 1)\n",
        "\n",
        "# Fit the model\n",
        "popt, _ = curve_fit(hicks_law, df['n_buttons'], df['time'])\n",
        "b = popt[0]\n",
        "\n",
        "print(f\"The fitted value of b is: {b:.4f} seconds\")\n",
        "\n",
        "# Create smooth curve for plotting\n",
        "n_smooth = np.linspace(min(df['n_buttons']), max(df['n_buttons']), 100)\n",
        "time_smooth = hicks_law(n_smooth, b)\n",
        "\n",
        "# Plot both the data and the fitted curve\n",
        "plt.figure(figsize=(10, 6))\n",
        "plt.scatter(df['n_buttons'], df['time'], alpha=0.6, label='Experimental Data')\n",
        "plt.plot(n_smooth, time_smooth, 'r-', label=f'Fitted Model: T = {b:.4f} log₂(n+1)')\n",
        "plt.xlabel('Number of Choices (n)')\n",
        "plt.ylabel('Response Time (seconds)')\n",
        "plt.title(\"Hick's Law: Data and Fitted Model\")\n",
        "plt.grid(True)\n",
        "plt.legend()\n",
        "plt.show()"
      ]
    },
    {
      "cell_type": "markdown",
      "metadata": {
        "id": "xQ4Op5x29NiI"
      },
      "source": [
        "## 📊 Model Analysis\n",
        "\n",
        "Let's analyze how well our model fits the data by calculating the R-squared value."
      ]
    },
    {
      "cell_type": "code",
      "execution_count": null,
      "metadata": {
        "id": "f5oQ3OdV9NiI"
      },
      "outputs": [],
      "source": [
        "# Calculate R-squared\n",
        "residuals = df['time'] - hicks_law(df['n_buttons'], b)\n",
        "ss_res = np.sum(residuals ** 2)\n",
        "ss_tot = np.sum((df['time'] - np.mean(df['time'])) ** 2)\n",
        "r_squared = 1 - (ss_res / ss_tot)\n",
        "\n",
        "print(f\"R-squared value: {r_squared:.4f}\")\n",
        "\n",
        "# Calculate average error\n",
        "mean_absolute_error = np.mean(np.abs(residuals))\n",
        "print(f\"Mean absolute error: {mean_absolute_error:.4f} seconds\")"
      ]
    },
    {
      "cell_type": "markdown",
      "metadata": {
        "id": "S4jt5NG29NiJ"
      },
      "source": [
        "## 🎯 Conclusions\n",
        "\n",
        "From our analysis:\n",
        "\n",
        "1. The coefficient $b$ in Visual Search equation is approximately {b:.4f} seconds for your data.\n",
        "2. This means that for each doubling of choices (n+1), your response time increases by about {b:.4f} seconds.\n",
        "3. The R-squared value of {r_squared:.4f} indicates how well the model fits your data (1.0 would be a perfect fit).\n",
        "\n",
        "### 💭 Discussion Questions:\n",
        "\n",
        "1. How well does your data follow the model? Look at the scatter plot and R-squared value.\n",
        "2. Are there any outliers in your data? What might have caused them?\n",
        "3. How might factors like fatigue or learning affect your results?\n",
        "4. How could this information be useful in user interface design?"
      ]
    }
  ],
  "metadata": {
    "kernelspec": {
      "display_name": "Python 3",
      "language": "python",
      "name": "python3"
    },
    "language_info": {
      "codemirror_mode": {
        "name": "ipython",
        "version": 3
      },
      "file_extension": ".py",
      "mimetype": "text/x-python",
      "name": "python",
      "nbconvert_exporter": "python",
      "pygments_lexer": "ipython3",
      "version": "3.8.0"
    },
    "colab": {
      "provenance": []
    }
  },
  "nbformat": 4,
  "nbformat_minor": 0
}